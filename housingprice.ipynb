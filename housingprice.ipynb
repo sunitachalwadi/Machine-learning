{
 "cells": [
  {
   "cell_type": "code",
   "execution_count": 1,
   "metadata": {},
   "outputs": [],
   "source": [
    "import pandas as pd"
   ]
  },
  {
   "cell_type": "code",
   "execution_count": 2,
   "metadata": {},
   "outputs": [],
   "source": [
    "df = pd.read_csv(\"houseprice.csv\")"
   ]
  },
  {
   "cell_type": "code",
   "execution_count": 3,
   "metadata": {},
   "outputs": [
    {
     "data": {
      "text/html": [
       "<div>\n",
       "<style scoped>\n",
       "    .dataframe tbody tr th:only-of-type {\n",
       "        vertical-align: middle;\n",
       "    }\n",
       "\n",
       "    .dataframe tbody tr th {\n",
       "        vertical-align: top;\n",
       "    }\n",
       "\n",
       "    .dataframe thead th {\n",
       "        text-align: right;\n",
       "    }\n",
       "</style>\n",
       "<table border=\"1\" class=\"dataframe\">\n",
       "  <thead>\n",
       "    <tr style=\"text-align: right;\">\n",
       "      <th></th>\n",
       "      <th>Living Area</th>\n",
       "      <th>Bathrooms</th>\n",
       "      <th>Bedrooms</th>\n",
       "      <th>Lot Size</th>\n",
       "      <th>Age</th>\n",
       "      <th>Fireplace</th>\n",
       "      <th>Price</th>\n",
       "    </tr>\n",
       "  </thead>\n",
       "  <tbody>\n",
       "    <tr>\n",
       "      <th>0</th>\n",
       "      <td>1.982</td>\n",
       "      <td>1.0</td>\n",
       "      <td>3</td>\n",
       "      <td>2.00</td>\n",
       "      <td>133</td>\n",
       "      <td>0</td>\n",
       "      <td>14.2212</td>\n",
       "    </tr>\n",
       "    <tr>\n",
       "      <th>1</th>\n",
       "      <td>1.676</td>\n",
       "      <td>1.5</td>\n",
       "      <td>3</td>\n",
       "      <td>0.38</td>\n",
       "      <td>14</td>\n",
       "      <td>1</td>\n",
       "      <td>13.4865</td>\n",
       "    </tr>\n",
       "    <tr>\n",
       "      <th>2</th>\n",
       "      <td>1.694</td>\n",
       "      <td>2.0</td>\n",
       "      <td>3</td>\n",
       "      <td>0.96</td>\n",
       "      <td>15</td>\n",
       "      <td>1</td>\n",
       "      <td>11.8007</td>\n",
       "    </tr>\n",
       "    <tr>\n",
       "      <th>3</th>\n",
       "      <td>1.800</td>\n",
       "      <td>1.0</td>\n",
       "      <td>2</td>\n",
       "      <td>0.48</td>\n",
       "      <td>49</td>\n",
       "      <td>1</td>\n",
       "      <td>13.8297</td>\n",
       "    </tr>\n",
       "    <tr>\n",
       "      <th>4</th>\n",
       "      <td>2.088</td>\n",
       "      <td>1.0</td>\n",
       "      <td>3</td>\n",
       "      <td>1.84</td>\n",
       "      <td>29</td>\n",
       "      <td>1</td>\n",
       "      <td>12.9470</td>\n",
       "    </tr>\n",
       "  </tbody>\n",
       "</table>\n",
       "</div>"
      ],
      "text/plain": [
       "   Living Area  Bathrooms  Bedrooms  Lot Size  Age  Fireplace    Price\n",
       "0        1.982        1.0         3      2.00  133          0  14.2212\n",
       "1        1.676        1.5         3      0.38   14          1  13.4865\n",
       "2        1.694        2.0         3      0.96   15          1  11.8007\n",
       "3        1.800        1.0         2      0.48   49          1  13.8297\n",
       "4        2.088        1.0         3      1.84   29          1  12.9470"
      ]
     },
     "execution_count": 3,
     "metadata": {},
     "output_type": "execute_result"
    }
   ],
   "source": [
    "df.head()"
   ]
  },
  {
   "cell_type": "code",
   "execution_count": 4,
   "metadata": {},
   "outputs": [
    {
     "name": "stdout",
     "output_type": "stream",
     "text": [
      "<class 'pandas.core.frame.DataFrame'>\n",
      "RangeIndex: 1047 entries, 0 to 1046\n",
      "Data columns (total 7 columns):\n",
      "Living Area    1047 non-null float64\n",
      "Bathrooms      1047 non-null float64\n",
      "Bedrooms       1047 non-null int64\n",
      "Lot Size       1047 non-null float64\n",
      "Age            1047 non-null int64\n",
      "Fireplace      1047 non-null int64\n",
      "Price          1047 non-null float64\n",
      "dtypes: float64(4), int64(3)\n",
      "memory usage: 57.3 KB\n"
     ]
    }
   ],
   "source": [
    "df.info()"
   ]
  },
  {
   "cell_type": "code",
   "execution_count": 5,
   "metadata": {},
   "outputs": [
    {
     "data": {
      "text/html": [
       "<div>\n",
       "<style scoped>\n",
       "    .dataframe tbody tr th:only-of-type {\n",
       "        vertical-align: middle;\n",
       "    }\n",
       "\n",
       "    .dataframe tbody tr th {\n",
       "        vertical-align: top;\n",
       "    }\n",
       "\n",
       "    .dataframe thead th {\n",
       "        text-align: right;\n",
       "    }\n",
       "</style>\n",
       "<table border=\"1\" class=\"dataframe\">\n",
       "  <thead>\n",
       "    <tr style=\"text-align: right;\">\n",
       "      <th></th>\n",
       "      <th>Living Area</th>\n",
       "      <th>Bathrooms</th>\n",
       "      <th>Bedrooms</th>\n",
       "      <th>Lot Size</th>\n",
       "      <th>Age</th>\n",
       "      <th>Fireplace</th>\n",
       "      <th>Price</th>\n",
       "    </tr>\n",
       "  </thead>\n",
       "  <tbody>\n",
       "    <tr>\n",
       "      <th>Living Area</th>\n",
       "      <td>1.000000</td>\n",
       "      <td>0.722649</td>\n",
       "      <td>0.664347</td>\n",
       "      <td>0.200180</td>\n",
       "      <td>-0.263168</td>\n",
       "      <td>0.481436</td>\n",
       "      <td>0.776396</td>\n",
       "    </tr>\n",
       "    <tr>\n",
       "      <th>Bathrooms</th>\n",
       "      <td>0.722649</td>\n",
       "      <td>1.000000</td>\n",
       "      <td>0.491798</td>\n",
       "      <td>0.100993</td>\n",
       "      <td>-0.443830</td>\n",
       "      <td>0.444700</td>\n",
       "      <td>0.670189</td>\n",
       "    </tr>\n",
       "    <tr>\n",
       "      <th>Bedrooms</th>\n",
       "      <td>0.664347</td>\n",
       "      <td>0.491798</td>\n",
       "      <td>1.000000</td>\n",
       "      <td>0.140682</td>\n",
       "      <td>-0.060598</td>\n",
       "      <td>0.295873</td>\n",
       "      <td>0.471074</td>\n",
       "    </tr>\n",
       "    <tr>\n",
       "      <th>Lot Size</th>\n",
       "      <td>0.200180</td>\n",
       "      <td>0.100993</td>\n",
       "      <td>0.140682</td>\n",
       "      <td>1.000000</td>\n",
       "      <td>0.015135</td>\n",
       "      <td>0.052765</td>\n",
       "      <td>0.155284</td>\n",
       "    </tr>\n",
       "    <tr>\n",
       "      <th>Age</th>\n",
       "      <td>-0.263168</td>\n",
       "      <td>-0.443830</td>\n",
       "      <td>-0.060598</td>\n",
       "      <td>0.015135</td>\n",
       "      <td>1.000000</td>\n",
       "      <td>-0.248794</td>\n",
       "      <td>-0.363354</td>\n",
       "    </tr>\n",
       "    <tr>\n",
       "      <th>Fireplace</th>\n",
       "      <td>0.481436</td>\n",
       "      <td>0.444700</td>\n",
       "      <td>0.295873</td>\n",
       "      <td>0.052765</td>\n",
       "      <td>-0.248794</td>\n",
       "      <td>1.000000</td>\n",
       "      <td>0.460237</td>\n",
       "    </tr>\n",
       "    <tr>\n",
       "      <th>Price</th>\n",
       "      <td>0.776396</td>\n",
       "      <td>0.670189</td>\n",
       "      <td>0.471074</td>\n",
       "      <td>0.155284</td>\n",
       "      <td>-0.363354</td>\n",
       "      <td>0.460237</td>\n",
       "      <td>1.000000</td>\n",
       "    </tr>\n",
       "  </tbody>\n",
       "</table>\n",
       "</div>"
      ],
      "text/plain": [
       "             Living Area  Bathrooms  Bedrooms  Lot Size       Age  Fireplace  \\\n",
       "Living Area     1.000000   0.722649  0.664347  0.200180 -0.263168   0.481436   \n",
       "Bathrooms       0.722649   1.000000  0.491798  0.100993 -0.443830   0.444700   \n",
       "Bedrooms        0.664347   0.491798  1.000000  0.140682 -0.060598   0.295873   \n",
       "Lot Size        0.200180   0.100993  0.140682  1.000000  0.015135   0.052765   \n",
       "Age            -0.263168  -0.443830 -0.060598  0.015135  1.000000  -0.248794   \n",
       "Fireplace       0.481436   0.444700  0.295873  0.052765 -0.248794   1.000000   \n",
       "Price           0.776396   0.670189  0.471074  0.155284 -0.363354   0.460237   \n",
       "\n",
       "                Price  \n",
       "Living Area  0.776396  \n",
       "Bathrooms    0.670189  \n",
       "Bedrooms     0.471074  \n",
       "Lot Size     0.155284  \n",
       "Age         -0.363354  \n",
       "Fireplace    0.460237  \n",
       "Price        1.000000  "
      ]
     },
     "execution_count": 5,
     "metadata": {},
     "output_type": "execute_result"
    }
   ],
   "source": [
    "df.corr()"
   ]
  },
  {
   "cell_type": "code",
   "execution_count": 6,
   "metadata": {},
   "outputs": [],
   "source": [
    "from sklearn.model_selection import train_test_split\n",
    "from sklearn.linear_model import LinearRegression\n",
    "from sklearn.metrics import r2_score, mean_squared_error\n",
    "from sklearn.feature_selection import SelectFromModel"
   ]
  },
  {
   "cell_type": "code",
   "execution_count": 7,
   "metadata": {},
   "outputs": [],
   "source": [
    "x = df.drop('Price', axis=1)\n",
    "y = df['Price']"
   ]
  },
  {
   "cell_type": "code",
   "execution_count": 8,
   "metadata": {},
   "outputs": [],
   "source": [
    "x_train, x_test, y_train, y_test = train_test_split(x,y,test_size=0.3)"
   ]
  },
  {
   "cell_type": "code",
   "execution_count": 9,
   "metadata": {},
   "outputs": [
    {
     "data": {
      "text/plain": [
       "SelectFromModel(estimator=LinearRegression(copy_X=True, fit_intercept=True,\n",
       "                                           n_jobs=None, normalize=False),\n",
       "                max_features=None, norm_order=1, prefit=False, threshold=None)"
      ]
     },
     "execution_count": 9,
     "metadata": {},
     "output_type": "execute_result"
    }
   ],
   "source": [
    "lr = LinearRegression()\n",
    "sel = SelectFromModel(LinearRegression())\n",
    "sel.fit(x_train,y_train)\n",
    "#lr.fit(x_train, y_train)\n",
    "#y_pred = lr.predict(x_test)\n",
    "#print(r2_score(y_test, y_pred))"
   ]
  },
  {
   "cell_type": "code",
   "execution_count": 10,
   "metadata": {},
   "outputs": [
    {
     "data": {
      "text/plain": [
       "array([ True,  True, False, False, False, False])"
      ]
     },
     "execution_count": 10,
     "metadata": {},
     "output_type": "execute_result"
    }
   ],
   "source": [
    "sel.get_support()"
   ]
  },
  {
   "cell_type": "code",
   "execution_count": 11,
   "metadata": {},
   "outputs": [
    {
     "data": {
      "text/plain": [
       "2"
      ]
     },
     "execution_count": 11,
     "metadata": {},
     "output_type": "execute_result"
    }
   ],
   "source": [
    "selected_feat= x_train.columns[(sel.get_support())]\n",
    "len(selected_feat)"
   ]
  },
  {
   "cell_type": "code",
   "execution_count": 12,
   "metadata": {},
   "outputs": [
    {
     "name": "stdout",
     "output_type": "stream",
     "text": [
      "Index(['Living Area', 'Bathrooms'], dtype='object')\n"
     ]
    }
   ],
   "source": [
    "print(selected_feat)"
   ]
  },
  {
   "cell_type": "code",
   "execution_count": 13,
   "metadata": {},
   "outputs": [
    {
     "data": {
      "text/plain": [
       "'x = df[selected_feat]\\ny = df[\"Price\"]\\nx_train, x_test, y_train, y_test = train_test_split(x,y,test_size=0.3)\\nlr = LinearRegression()\\nlr.fit(x_train,y_train)\\ny_pred = lr.predict(x_test)\\nprint(r2_score(y_pred, y_test))'"
      ]
     },
     "execution_count": 13,
     "metadata": {},
     "output_type": "execute_result"
    }
   ],
   "source": [
    "'''x = df[selected_feat]\n",
    "y = df[\"Price\"]\n",
    "x_train, x_test, y_train, y_test = train_test_split(x,y,test_size=0.3)\n",
    "lr = LinearRegression()\n",
    "lr.fit(x_train,y_train)\n",
    "y_pred = lr.predict(x_test)\n",
    "print(r2_score(y_pred, y_test))'''"
   ]
  },
  {
   "cell_type": "code",
   "execution_count": 14,
   "metadata": {},
   "outputs": [
    {
     "name": "stdout",
     "output_type": "stream",
     "text": [
      "0.14007647755127361\n",
      "-0.18721926034284397\n",
      "0.3931480295960986\n",
      "0.04761716413364614\n",
      "0.197191021139266\n"
     ]
    }
   ],
   "source": [
    "#Applying PCA\n",
    "from sklearn.decomposition import PCA\n",
    "pca = PCA()\n",
    "for i in range(6,1,-1):\n",
    "    pca = PCA(3)\n",
    "    X_opt = pca.fit_transform(x)\n",
    "    x_train, x_test, y_train, y_test = train_test_split(X_opt,y,test_size=0.3)\n",
    "    lr = LinearRegression()\n",
    "    lr.fit(x_train,y_train)\n",
    "    y_pred = lr.predict(x_test)\n",
    "    print(r2_score(y_pred, y_test))\n",
    "\n"
   ]
  },
  {
   "cell_type": "markdown",
   "metadata": {},
   "source": [
    "# Data visualization"
   ]
  },
  {
   "cell_type": "code",
   "execution_count": 15,
   "metadata": {},
   "outputs": [],
   "source": [
    "#Index(['Living Area', 'Bathrooms'], dtype='object')\n",
    "import matplotlib.pyplot as plt"
   ]
  },
  {
   "cell_type": "code",
   "execution_count": 16,
   "metadata": {},
   "outputs": [
    {
     "data": {
      "image/png": "[encoded data removed]",
      "text/plain": [
       "<Figure size 432x288 with 1 Axes>"
      ]
     },
     "metadata": {
      "needs_background": "light"
     },
     "output_type": "display_data"
    }
   ],
   "source": [
    "plt.scatter(x= df['Living Area'],y= df['Price'])\n",
    "plt.show()"
   ]
  },
  {
   "cell_type": "code",
   "execution_count": 17,
   "metadata": {},
   "outputs": [
    {
     "data": {
      "image/png": "[encoded data removed]",
      "text/plain": [
       "<Figure size 432x288 with 1 Axes>"
      ]
     },
     "metadata": {
      "needs_background": "light"
     },
     "output_type": "display_data"
    }
   ],
   "source": [
    "plt.scatter(x= df['Bathrooms'],y= df['Price'])\n",
    "plt.show()"
   ]
  },
  {
   "cell_type": "code",
   "execution_count": 19,
   "metadata": {},
   "outputs": [
    {
     "name": "stdout",
     "output_type": "stream",
     "text": [
      "0.4847308122857671\n"
     ]
    }
   ],
   "source": [
    "#Polynomial regression\n",
    "from sklearn.preprocessing import PolynomialFeatures\n",
    "pf = PolynomialFeatures(2)\n",
    "#x = df[['Living Area']]\n",
    "x_poly = pf.fit_transform(x)\n",
    "x_train, x_test, y_train, y_test = train_test_split(x_poly, y, random_state=1,test_size=0.3)\n",
    "lr = LinearRegression()\n",
    "lr.fit(x_train,y_train)\n",
    "y_pred = lr.predict(x_test)\n",
    "print(r2_score(y_pred, y_test))"
   ]
  },
  {
   "cell_type": "code",
   "execution_count": null,
   "metadata": {},
   "outputs": [],
   "source": []
  }
 ],
 "metadata": {
  "kernelspec": {
   "display_name": "Python 3",
   "language": "python",
   "name": "python3"
  },
  "language_info": {
   "codemirror_mode": {
    "name": "ipython",
    "version": 3
   },
   "file_extension": ".py",
   "mimetype": "text/x-python",
   "name": "python",
   "nbconvert_exporter": "python",
   "pygments_lexer": "ipython3",
   "version": "3.7.3"
  }
 },
 "nbformat": 4,
 "nbformat_minor": 2
}
