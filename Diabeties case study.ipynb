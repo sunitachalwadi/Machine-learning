{
 "cells": [
  {
   "cell_type": "markdown",
   "metadata": {},
   "source": [
    "# Diabeties Case Study"
   ]
  },
  {
   "cell_type": "code",
   "execution_count": 12,
   "metadata": {},
   "outputs": [],
   "source": [
    "import numpy as np\n",
    "import pandas as pd\n",
    "import matplotlib.pyplot as plt\n",
    "import seaborn as sns"
   ]
  },
  {
   "cell_type": "code",
   "execution_count": 13,
   "metadata": {},
   "outputs": [],
   "source": [
    "df = pd.read_csv(r\"C:\\Users\\sunita.chalwadi\\Desktop\\diabetes.csv\")"
   ]
  },
  {
   "cell_type": "code",
   "execution_count": 4,
   "metadata": {},
   "outputs": [
    {
     "data": {
      "text/html": [
       "<div>\n",
       "<style scoped>\n",
       "    .dataframe tbody tr th:only-of-type {\n",
       "        vertical-align: middle;\n",
       "    }\n",
       "\n",
       "    .dataframe tbody tr th {\n",
       "        vertical-align: top;\n",
       "    }\n",
       "\n",
       "    .dataframe thead th {\n",
       "        text-align: right;\n",
       "    }\n",
       "</style>\n",
       "<table border=\"1\" class=\"dataframe\">\n",
       "  <thead>\n",
       "    <tr style=\"text-align: right;\">\n",
       "      <th></th>\n",
       "      <th>Pregnancies</th>\n",
       "      <th>Glucose</th>\n",
       "      <th>BloodPressure</th>\n",
       "      <th>SkinThickness</th>\n",
       "      <th>Insulin</th>\n",
       "      <th>BMI</th>\n",
       "      <th>DiabetesPedigreeFunction</th>\n",
       "      <th>Age</th>\n",
       "      <th>Outcome</th>\n",
       "    </tr>\n",
       "  </thead>\n",
       "  <tbody>\n",
       "    <tr>\n",
       "      <td>0</td>\n",
       "      <td>6</td>\n",
       "      <td>148</td>\n",
       "      <td>72</td>\n",
       "      <td>35</td>\n",
       "      <td>0</td>\n",
       "      <td>33.6</td>\n",
       "      <td>0.627</td>\n",
       "      <td>50</td>\n",
       "      <td>1</td>\n",
       "    </tr>\n",
       "    <tr>\n",
       "      <td>1</td>\n",
       "      <td>1</td>\n",
       "      <td>85</td>\n",
       "      <td>66</td>\n",
       "      <td>29</td>\n",
       "      <td>0</td>\n",
       "      <td>26.6</td>\n",
       "      <td>0.351</td>\n",
       "      <td>31</td>\n",
       "      <td>0</td>\n",
       "    </tr>\n",
       "    <tr>\n",
       "      <td>2</td>\n",
       "      <td>8</td>\n",
       "      <td>183</td>\n",
       "      <td>64</td>\n",
       "      <td>0</td>\n",
       "      <td>0</td>\n",
       "      <td>23.3</td>\n",
       "      <td>0.672</td>\n",
       "      <td>32</td>\n",
       "      <td>1</td>\n",
       "    </tr>\n",
       "    <tr>\n",
       "      <td>3</td>\n",
       "      <td>1</td>\n",
       "      <td>89</td>\n",
       "      <td>66</td>\n",
       "      <td>23</td>\n",
       "      <td>94</td>\n",
       "      <td>28.1</td>\n",
       "      <td>0.167</td>\n",
       "      <td>21</td>\n",
       "      <td>0</td>\n",
       "    </tr>\n",
       "    <tr>\n",
       "      <td>4</td>\n",
       "      <td>0</td>\n",
       "      <td>137</td>\n",
       "      <td>40</td>\n",
       "      <td>35</td>\n",
       "      <td>168</td>\n",
       "      <td>43.1</td>\n",
       "      <td>2.288</td>\n",
       "      <td>33</td>\n",
       "      <td>1</td>\n",
       "    </tr>\n",
       "  </tbody>\n",
       "</table>\n",
       "</div>"
      ],
      "text/plain": [
       "   Pregnancies  Glucose  BloodPressure  SkinThickness  Insulin   BMI  \\\n",
       "0            6      148             72             35        0  33.6   \n",
       "1            1       85             66             29        0  26.6   \n",
       "2            8      183             64              0        0  23.3   \n",
       "3            1       89             66             23       94  28.1   \n",
       "4            0      137             40             35      168  43.1   \n",
       "\n",
       "   DiabetesPedigreeFunction  Age  Outcome  \n",
       "0                     0.627   50        1  \n",
       "1                     0.351   31        0  \n",
       "2                     0.672   32        1  \n",
       "3                     0.167   21        0  \n",
       "4                     2.288   33        1  "
      ]
     },
     "execution_count": 4,
     "metadata": {},
     "output_type": "execute_result"
    }
   ],
   "source": [
    "df.head()"
   ]
  },
  {
   "cell_type": "code",
   "execution_count": 14,
   "metadata": {},
   "outputs": [
    {
     "data": {
      "text/plain": [
       "0    500\n",
       "1    268\n",
       "Name: Outcome, dtype: int64"
      ]
     },
     "execution_count": 14,
     "metadata": {},
     "output_type": "execute_result"
    }
   ],
   "source": [
    "df[\"Outcome\"].value_counts()"
   ]
  },
  {
   "cell_type": "code",
   "execution_count": 19,
   "metadata": {},
   "outputs": [
    {
     "data": {
      "text/plain": [
       "Pregnancies                 0\n",
       "Glucose                     0\n",
       "BloodPressure               0\n",
       "SkinThickness               0\n",
       "Insulin                     0\n",
       "BMI                         0\n",
       "DiabetesPedigreeFunction    0\n",
       "Age                         0\n",
       "Outcome                     0\n",
       "dtype: int64"
      ]
     },
     "execution_count": 19,
     "metadata": {},
     "output_type": "execute_result"
    }
   ],
   "source": [
    "df.isnull().sum()"
   ]
  },
  {
   "cell_type": "code",
   "execution_count": 20,
   "metadata": {},
   "outputs": [],
   "source": [
    "df_0 = df[df['Outcome']==1]\n",
    "df_1 = df[df['Outcome']==0].sample(n=268, random_state=2)\n",
    "df_new = pd.concat([df_1, df_0])"
   ]
  },
  {
   "cell_type": "code",
   "execution_count": 17,
   "metadata": {},
   "outputs": [
    {
     "data": {
      "text/plain": [
       "1    268\n",
       "0    268\n",
       "Name: Outcome, dtype: int64"
      ]
     },
     "execution_count": 17,
     "metadata": {},
     "output_type": "execute_result"
    }
   ],
   "source": [
    "df_new[\"Outcome\"].value_counts()"
   ]
  },
  {
   "cell_type": "markdown",
   "metadata": {},
   "source": [
    "# MinMax scaler"
   ]
  },
  {
   "cell_type": "code",
   "execution_count": 22,
   "metadata": {},
   "outputs": [],
   "source": [
    "from sklearn.preprocessing import MinMaxScaler"
   ]
  },
  {
   "cell_type": "code",
   "execution_count": 23,
   "metadata": {},
   "outputs": [
    {
     "data": {
      "text/html": [
       "<div>\n",
       "<style scoped>\n",
       "    .dataframe tbody tr th:only-of-type {\n",
       "        vertical-align: middle;\n",
       "    }\n",
       "\n",
       "    .dataframe tbody tr th {\n",
       "        vertical-align: top;\n",
       "    }\n",
       "\n",
       "    .dataframe thead th {\n",
       "        text-align: right;\n",
       "    }\n",
       "</style>\n",
       "<table border=\"1\" class=\"dataframe\">\n",
       "  <thead>\n",
       "    <tr style=\"text-align: right;\">\n",
       "      <th></th>\n",
       "      <th>Pregnancies</th>\n",
       "      <th>Glucose</th>\n",
       "      <th>BloodPressure</th>\n",
       "      <th>SkinThickness</th>\n",
       "      <th>Insulin</th>\n",
       "      <th>BMI</th>\n",
       "      <th>DiabetesPedigreeFunction</th>\n",
       "      <th>Age</th>\n",
       "      <th>Outcome</th>\n",
       "    </tr>\n",
       "  </thead>\n",
       "  <tbody>\n",
       "    <tr>\n",
       "      <td>204</td>\n",
       "      <td>0.352941</td>\n",
       "      <td>0.517588</td>\n",
       "      <td>0.590164</td>\n",
       "      <td>0.323232</td>\n",
       "      <td>0.224586</td>\n",
       "      <td>0.561848</td>\n",
       "      <td>0.105038</td>\n",
       "      <td>0.566667</td>\n",
       "      <td>0.0</td>\n",
       "    </tr>\n",
       "    <tr>\n",
       "      <td>453</td>\n",
       "      <td>0.117647</td>\n",
       "      <td>0.597990</td>\n",
       "      <td>0.000000</td>\n",
       "      <td>0.000000</td>\n",
       "      <td>0.000000</td>\n",
       "      <td>0.292101</td>\n",
       "      <td>0.321947</td>\n",
       "      <td>0.850000</td>\n",
       "      <td>0.0</td>\n",
       "    </tr>\n",
       "    <tr>\n",
       "      <td>671</td>\n",
       "      <td>0.058824</td>\n",
       "      <td>0.497487</td>\n",
       "      <td>0.475410</td>\n",
       "      <td>0.101010</td>\n",
       "      <td>0.000000</td>\n",
       "      <td>0.378539</td>\n",
       "      <td>0.201964</td>\n",
       "      <td>0.000000</td>\n",
       "      <td>0.0</td>\n",
       "    </tr>\n",
       "    <tr>\n",
       "      <td>587</td>\n",
       "      <td>0.352941</td>\n",
       "      <td>0.517588</td>\n",
       "      <td>0.540984</td>\n",
       "      <td>0.000000</td>\n",
       "      <td>0.000000</td>\n",
       "      <td>0.362146</td>\n",
       "      <td>0.073015</td>\n",
       "      <td>0.133333</td>\n",
       "      <td>0.0</td>\n",
       "    </tr>\n",
       "    <tr>\n",
       "      <td>365</td>\n",
       "      <td>0.294118</td>\n",
       "      <td>0.497487</td>\n",
       "      <td>0.442623</td>\n",
       "      <td>0.282828</td>\n",
       "      <td>0.098109</td>\n",
       "      <td>0.506706</td>\n",
       "      <td>0.179761</td>\n",
       "      <td>0.150000</td>\n",
       "      <td>0.0</td>\n",
       "    </tr>\n",
       "  </tbody>\n",
       "</table>\n",
       "</div>"
      ],
      "text/plain": [
       "     Pregnancies   Glucose  BloodPressure  SkinThickness   Insulin       BMI  \\\n",
       "204     0.352941  0.517588       0.590164       0.323232  0.224586  0.561848   \n",
       "453     0.117647  0.597990       0.000000       0.000000  0.000000  0.292101   \n",
       "671     0.058824  0.497487       0.475410       0.101010  0.000000  0.378539   \n",
       "587     0.352941  0.517588       0.540984       0.000000  0.000000  0.362146   \n",
       "365     0.294118  0.497487       0.442623       0.282828  0.098109  0.506706   \n",
       "\n",
       "     DiabetesPedigreeFunction       Age  Outcome  \n",
       "204                  0.105038  0.566667      0.0  \n",
       "453                  0.321947  0.850000      0.0  \n",
       "671                  0.201964  0.000000      0.0  \n",
       "587                  0.073015  0.133333      0.0  \n",
       "365                  0.179761  0.150000      0.0  "
      ]
     },
     "execution_count": 23,
     "metadata": {},
     "output_type": "execute_result"
    }
   ],
   "source": [
    "df1 = df_new.copy()\n",
    "for col in df1:\n",
    "    mx = MinMaxScaler()\n",
    "    df1[col] = mx.fit_transform(df1[[col]])\n",
    "df1.head()"
   ]
  },
  {
   "cell_type": "markdown",
   "metadata": {},
   "source": [
    "# Dividing data in X and Y variables"
   ]
  },
  {
   "cell_type": "code",
   "execution_count": 24,
   "metadata": {},
   "outputs": [
    {
     "data": {
      "text/plain": [
       "1    268\n",
       "0    268\n",
       "Name: Outcome, dtype: int64"
      ]
     },
     "execution_count": 24,
     "metadata": {},
     "output_type": "execute_result"
    }
   ],
   "source": [
    "df_new[\"Outcome\"].value_counts()"
   ]
  },
  {
   "cell_type": "code",
   "execution_count": 25,
   "metadata": {},
   "outputs": [],
   "source": [
    "x = df1.iloc[:,:-1]\n",
    "y = df1.iloc[:,-1]"
   ]
  },
  {
   "cell_type": "code",
   "execution_count": 26,
   "metadata": {},
   "outputs": [
    {
     "data": {
      "text/html": [
       "<div>\n",
       "<style scoped>\n",
       "    .dataframe tbody tr th:only-of-type {\n",
       "        vertical-align: middle;\n",
       "    }\n",
       "\n",
       "    .dataframe tbody tr th {\n",
       "        vertical-align: top;\n",
       "    }\n",
       "\n",
       "    .dataframe thead th {\n",
       "        text-align: right;\n",
       "    }\n",
       "</style>\n",
       "<table border=\"1\" class=\"dataframe\">\n",
       "  <thead>\n",
       "    <tr style=\"text-align: right;\">\n",
       "      <th></th>\n",
       "      <th>Pregnancies</th>\n",
       "      <th>Glucose</th>\n",
       "      <th>BloodPressure</th>\n",
       "      <th>SkinThickness</th>\n",
       "      <th>Insulin</th>\n",
       "      <th>BMI</th>\n",
       "      <th>DiabetesPedigreeFunction</th>\n",
       "      <th>Age</th>\n",
       "    </tr>\n",
       "  </thead>\n",
       "  <tbody>\n",
       "    <tr>\n",
       "      <td>204</td>\n",
       "      <td>0.352941</td>\n",
       "      <td>0.517588</td>\n",
       "      <td>0.590164</td>\n",
       "      <td>0.323232</td>\n",
       "      <td>0.224586</td>\n",
       "      <td>0.561848</td>\n",
       "      <td>0.105038</td>\n",
       "      <td>0.566667</td>\n",
       "    </tr>\n",
       "    <tr>\n",
       "      <td>453</td>\n",
       "      <td>0.117647</td>\n",
       "      <td>0.597990</td>\n",
       "      <td>0.000000</td>\n",
       "      <td>0.000000</td>\n",
       "      <td>0.000000</td>\n",
       "      <td>0.292101</td>\n",
       "      <td>0.321947</td>\n",
       "      <td>0.850000</td>\n",
       "    </tr>\n",
       "    <tr>\n",
       "      <td>671</td>\n",
       "      <td>0.058824</td>\n",
       "      <td>0.497487</td>\n",
       "      <td>0.475410</td>\n",
       "      <td>0.101010</td>\n",
       "      <td>0.000000</td>\n",
       "      <td>0.378539</td>\n",
       "      <td>0.201964</td>\n",
       "      <td>0.000000</td>\n",
       "    </tr>\n",
       "    <tr>\n",
       "      <td>587</td>\n",
       "      <td>0.352941</td>\n",
       "      <td>0.517588</td>\n",
       "      <td>0.540984</td>\n",
       "      <td>0.000000</td>\n",
       "      <td>0.000000</td>\n",
       "      <td>0.362146</td>\n",
       "      <td>0.073015</td>\n",
       "      <td>0.133333</td>\n",
       "    </tr>\n",
       "    <tr>\n",
       "      <td>365</td>\n",
       "      <td>0.294118</td>\n",
       "      <td>0.497487</td>\n",
       "      <td>0.442623</td>\n",
       "      <td>0.282828</td>\n",
       "      <td>0.098109</td>\n",
       "      <td>0.506706</td>\n",
       "      <td>0.179761</td>\n",
       "      <td>0.150000</td>\n",
       "    </tr>\n",
       "  </tbody>\n",
       "</table>\n",
       "</div>"
      ],
      "text/plain": [
       "     Pregnancies   Glucose  BloodPressure  SkinThickness   Insulin       BMI  \\\n",
       "204     0.352941  0.517588       0.590164       0.323232  0.224586  0.561848   \n",
       "453     0.117647  0.597990       0.000000       0.000000  0.000000  0.292101   \n",
       "671     0.058824  0.497487       0.475410       0.101010  0.000000  0.378539   \n",
       "587     0.352941  0.517588       0.540984       0.000000  0.000000  0.362146   \n",
       "365     0.294118  0.497487       0.442623       0.282828  0.098109  0.506706   \n",
       "\n",
       "     DiabetesPedigreeFunction       Age  \n",
       "204                  0.105038  0.566667  \n",
       "453                  0.321947  0.850000  \n",
       "671                  0.201964  0.000000  \n",
       "587                  0.073015  0.133333  \n",
       "365                  0.179761  0.150000  "
      ]
     },
     "execution_count": 26,
     "metadata": {},
     "output_type": "execute_result"
    }
   ],
   "source": [
    "x.head()"
   ]
  },
  {
   "cell_type": "code",
   "execution_count": 35,
   "metadata": {},
   "outputs": [
    {
     "data": {
      "text/plain": [
       "204    0.0\n",
       "453    0.0\n",
       "671    0.0\n",
       "587    0.0\n",
       "365    0.0\n",
       "Name: Outcome, dtype: float64"
      ]
     },
     "execution_count": 35,
     "metadata": {},
     "output_type": "execute_result"
    }
   ],
   "source": [
    "y.head()"
   ]
  },
  {
   "cell_type": "markdown",
   "metadata": {},
   "source": [
    "# Test and Train split  "
   ]
  },
  {
   "cell_type": "code",
   "execution_count": 36,
   "metadata": {},
   "outputs": [],
   "source": [
    "from sklearn.model_selection import train_test_split"
   ]
  },
  {
   "cell_type": "code",
   "execution_count": 37,
   "metadata": {},
   "outputs": [],
   "source": [
    "x_train,x_test,y_train,y_test = train_test_split(x,y,test_size=0.3,\n",
    "                                                 random_state=1)"
   ]
  },
  {
   "cell_type": "markdown",
   "metadata": {},
   "source": [
    "# Logistic regression"
   ]
  },
  {
   "cell_type": "code",
   "execution_count": 38,
   "metadata": {},
   "outputs": [],
   "source": [
    "from sklearn.linear_model import LogisticRegression"
   ]
  },
  {
   "cell_type": "code",
   "execution_count": 39,
   "metadata": {},
   "outputs": [],
   "source": [
    "log = LogisticRegression()"
   ]
  },
  {
   "cell_type": "code",
   "execution_count": 40,
   "metadata": {},
   "outputs": [
    {
     "data": {
      "text/plain": [
       "LogisticRegression(C=1.0, class_weight=None, dual=False, fit_intercept=True,\n",
       "                   intercept_scaling=1, l1_ratio=None, max_iter=100,\n",
       "                   multi_class='auto', n_jobs=None, penalty='l2',\n",
       "                   random_state=None, solver='lbfgs', tol=0.0001, verbose=0,\n",
       "                   warm_start=False)"
      ]
     },
     "execution_count": 40,
     "metadata": {},
     "output_type": "execute_result"
    }
   ],
   "source": [
    "log.fit(x_train,y_train)"
   ]
  },
  {
   "cell_type": "code",
   "execution_count": 45,
   "metadata": {},
   "outputs": [
    {
     "data": {
      "text/plain": [
       "0.6708074534161491"
      ]
     },
     "execution_count": 45,
     "metadata": {},
     "output_type": "execute_result"
    }
   ],
   "source": [
    "log.score(x_test,y_test)"
   ]
  },
  {
   "cell_type": "code",
   "execution_count": 46,
   "metadata": {},
   "outputs": [
    {
     "data": {
      "text/plain": [
       "0.7413333333333333"
      ]
     },
     "execution_count": 46,
     "metadata": {},
     "output_type": "execute_result"
    }
   ],
   "source": [
    "log.score(x_train,y_train)"
   ]
  },
  {
   "cell_type": "code",
   "execution_count": 47,
   "metadata": {},
   "outputs": [
    {
     "data": {
      "text/html": [
       "<div>\n",
       "<style scoped>\n",
       "    .dataframe tbody tr th:only-of-type {\n",
       "        vertical-align: middle;\n",
       "    }\n",
       "\n",
       "    .dataframe tbody tr th {\n",
       "        vertical-align: top;\n",
       "    }\n",
       "\n",
       "    .dataframe thead th {\n",
       "        text-align: right;\n",
       "    }\n",
       "</style>\n",
       "<table border=\"1\" class=\"dataframe\">\n",
       "  <thead>\n",
       "    <tr style=\"text-align: right;\">\n",
       "      <th></th>\n",
       "      <th>Pregnancies</th>\n",
       "      <th>Glucose</th>\n",
       "      <th>BloodPressure</th>\n",
       "      <th>SkinThickness</th>\n",
       "      <th>Insulin</th>\n",
       "      <th>BMI</th>\n",
       "      <th>DiabetesPedigreeFunction</th>\n",
       "      <th>Age</th>\n",
       "      <th>Outcome</th>\n",
       "    </tr>\n",
       "  </thead>\n",
       "  <tbody>\n",
       "    <tr>\n",
       "      <td>Pregnancies</td>\n",
       "      <td>1.000000</td>\n",
       "      <td>0.126781</td>\n",
       "      <td>0.130888</td>\n",
       "      <td>-0.098653</td>\n",
       "      <td>-0.072781</td>\n",
       "      <td>-0.038966</td>\n",
       "      <td>-0.055248</td>\n",
       "      <td>0.513352</td>\n",
       "      <td>0.216720</td>\n",
       "    </tr>\n",
       "    <tr>\n",
       "      <td>Glucose</td>\n",
       "      <td>0.126781</td>\n",
       "      <td>1.000000</td>\n",
       "      <td>0.106589</td>\n",
       "      <td>0.054759</td>\n",
       "      <td>0.324213</td>\n",
       "      <td>0.191720</td>\n",
       "      <td>0.118647</td>\n",
       "      <td>0.258408</td>\n",
       "      <td>0.447673</td>\n",
       "    </tr>\n",
       "    <tr>\n",
       "      <td>BloodPressure</td>\n",
       "      <td>0.130888</td>\n",
       "      <td>0.106589</td>\n",
       "      <td>1.000000</td>\n",
       "      <td>0.212059</td>\n",
       "      <td>0.094693</td>\n",
       "      <td>0.209297</td>\n",
       "      <td>0.018862</td>\n",
       "      <td>0.237812</td>\n",
       "      <td>0.061771</td>\n",
       "    </tr>\n",
       "    <tr>\n",
       "      <td>SkinThickness</td>\n",
       "      <td>-0.098653</td>\n",
       "      <td>0.054759</td>\n",
       "      <td>0.212059</td>\n",
       "      <td>1.000000</td>\n",
       "      <td>0.439667</td>\n",
       "      <td>0.394658</td>\n",
       "      <td>0.223680</td>\n",
       "      <td>-0.120813</td>\n",
       "      <td>0.058609</td>\n",
       "    </tr>\n",
       "    <tr>\n",
       "      <td>Insulin</td>\n",
       "      <td>-0.072781</td>\n",
       "      <td>0.324213</td>\n",
       "      <td>0.094693</td>\n",
       "      <td>0.439667</td>\n",
       "      <td>1.000000</td>\n",
       "      <td>0.169343</td>\n",
       "      <td>0.179617</td>\n",
       "      <td>-0.039558</td>\n",
       "      <td>0.092935</td>\n",
       "    </tr>\n",
       "    <tr>\n",
       "      <td>BMI</td>\n",
       "      <td>-0.038966</td>\n",
       "      <td>0.191720</td>\n",
       "      <td>0.209297</td>\n",
       "      <td>0.394658</td>\n",
       "      <td>0.169343</td>\n",
       "      <td>1.000000</td>\n",
       "      <td>0.124027</td>\n",
       "      <td>-0.034200</td>\n",
       "      <td>0.299744</td>\n",
       "    </tr>\n",
       "    <tr>\n",
       "      <td>DiabetesPedigreeFunction</td>\n",
       "      <td>-0.055248</td>\n",
       "      <td>0.118647</td>\n",
       "      <td>0.018862</td>\n",
       "      <td>0.223680</td>\n",
       "      <td>0.179617</td>\n",
       "      <td>0.124027</td>\n",
       "      <td>1.000000</td>\n",
       "      <td>-0.007496</td>\n",
       "      <td>0.182957</td>\n",
       "    </tr>\n",
       "    <tr>\n",
       "      <td>Age</td>\n",
       "      <td>0.513352</td>\n",
       "      <td>0.258408</td>\n",
       "      <td>0.237812</td>\n",
       "      <td>-0.120813</td>\n",
       "      <td>-0.039558</td>\n",
       "      <td>-0.034200</td>\n",
       "      <td>-0.007496</td>\n",
       "      <td>1.000000</td>\n",
       "      <td>0.218665</td>\n",
       "    </tr>\n",
       "    <tr>\n",
       "      <td>Outcome</td>\n",
       "      <td>0.216720</td>\n",
       "      <td>0.447673</td>\n",
       "      <td>0.061771</td>\n",
       "      <td>0.058609</td>\n",
       "      <td>0.092935</td>\n",
       "      <td>0.299744</td>\n",
       "      <td>0.182957</td>\n",
       "      <td>0.218665</td>\n",
       "      <td>1.000000</td>\n",
       "    </tr>\n",
       "  </tbody>\n",
       "</table>\n",
       "</div>"
      ],
      "text/plain": [
       "                          Pregnancies   Glucose  BloodPressure  SkinThickness  \\\n",
       "Pregnancies                  1.000000  0.126781       0.130888      -0.098653   \n",
       "Glucose                      0.126781  1.000000       0.106589       0.054759   \n",
       "BloodPressure                0.130888  0.106589       1.000000       0.212059   \n",
       "SkinThickness               -0.098653  0.054759       0.212059       1.000000   \n",
       "Insulin                     -0.072781  0.324213       0.094693       0.439667   \n",
       "BMI                         -0.038966  0.191720       0.209297       0.394658   \n",
       "DiabetesPedigreeFunction    -0.055248  0.118647       0.018862       0.223680   \n",
       "Age                          0.513352  0.258408       0.237812      -0.120813   \n",
       "Outcome                      0.216720  0.447673       0.061771       0.058609   \n",
       "\n",
       "                           Insulin       BMI  DiabetesPedigreeFunction  \\\n",
       "Pregnancies              -0.072781 -0.038966                 -0.055248   \n",
       "Glucose                   0.324213  0.191720                  0.118647   \n",
       "BloodPressure             0.094693  0.209297                  0.018862   \n",
       "SkinThickness             0.439667  0.394658                  0.223680   \n",
       "Insulin                   1.000000  0.169343                  0.179617   \n",
       "BMI                       0.169343  1.000000                  0.124027   \n",
       "DiabetesPedigreeFunction  0.179617  0.124027                  1.000000   \n",
       "Age                      -0.039558 -0.034200                 -0.007496   \n",
       "Outcome                   0.092935  0.299744                  0.182957   \n",
       "\n",
       "                               Age   Outcome  \n",
       "Pregnancies               0.513352  0.216720  \n",
       "Glucose                   0.258408  0.447673  \n",
       "BloodPressure             0.237812  0.061771  \n",
       "SkinThickness            -0.120813  0.058609  \n",
       "Insulin                  -0.039558  0.092935  \n",
       "BMI                      -0.034200  0.299744  \n",
       "DiabetesPedigreeFunction -0.007496  0.182957  \n",
       "Age                       1.000000  0.218665  \n",
       "Outcome                   0.218665  1.000000  "
      ]
     },
     "execution_count": 47,
     "metadata": {},
     "output_type": "execute_result"
    }
   ],
   "source": [
    "df_new.corr()"
   ]
  },
  {
   "cell_type": "code",
   "execution_count": 48,
   "metadata": {},
   "outputs": [
    {
     "data": {
      "image/png": "[encoded data removed]",
      "text/plain": [
       "<Figure size 720x720 with 2 Axes>"
      ]
     },
     "metadata": {
      "needs_background": "light"
     },
     "output_type": "display_data"
    }
   ],
   "source": [
    "cor = df_new.corr()\n",
    "plt.figure(figsize=(10,10))\n",
    "sns.heatmap(cor, annot=True)\n",
    "plt.show()"
   ]
  },
  {
   "cell_type": "markdown",
   "metadata": {},
   "source": [
    "# Evaluation Matrix"
   ]
  },
  {
   "cell_type": "code",
   "execution_count": 49,
   "metadata": {},
   "outputs": [],
   "source": [
    "from sklearn.metrics import classification_report, confusion_matrix"
   ]
  },
  {
   "cell_type": "code",
   "execution_count": 50,
   "metadata": {},
   "outputs": [],
   "source": [
    "y_pred = log.predict(x_test)"
   ]
  },
  {
   "cell_type": "code",
   "execution_count": 51,
   "metadata": {},
   "outputs": [
    {
     "name": "stdout",
     "output_type": "stream",
     "text": [
      "              precision    recall  f1-score   support\n",
      "\n",
      "         0.0       0.62      0.73      0.67        74\n",
      "         1.0       0.73      0.62      0.67        87\n",
      "\n",
      "    accuracy                           0.67       161\n",
      "   macro avg       0.68      0.68      0.67       161\n",
      "weighted avg       0.68      0.67      0.67       161\n",
      "\n"
     ]
    }
   ],
   "source": [
    "print(classification_report(y_test,y_pred))"
   ]
  },
  {
   "cell_type": "code",
   "execution_count": 52,
   "metadata": {},
   "outputs": [
    {
     "name": "stdout",
     "output_type": "stream",
     "text": [
      "54 33\n",
      "20 54\n"
     ]
    }
   ],
   "source": [
    "from sklearn.metrics import roc_curve\n",
    "tn, fp, fn, tp = confusion_matrix(y_test,y_pred).ravel()\n",
    "print(tp, fn)\n",
    "print(fp, tn)\n",
    "fpr, tpr, threshold = roc_curve(y_test, y_pred)"
   ]
  },
  {
   "cell_type": "code",
   "execution_count": 53,
   "metadata": {},
   "outputs": [
    {
     "data": {
      "image/png": "[encoded data removed]",
      "text/plain": [
       "<Figure size 432x288 with 1 Axes>"
      ]
     },
     "metadata": {
      "needs_background": "light"
     },
     "output_type": "display_data"
    }
   ],
   "source": [
    "plt.plot(fpr, tpr, 'r-')\n",
    "plt.plot([0,1],[0,1],'k-',label='random')\n",
    "plt.plot([0,0,1],[0,1,1],'g-',label='perfect')\n",
    "plt.xlabel('False Positive Rate')\n",
    "plt.ylabel('True Positive Rate')\n",
    "plt.show()"
   ]
  },
  {
   "cell_type": "code",
   "execution_count": 54,
   "metadata": {},
   "outputs": [
    {
     "name": "stdout",
     "output_type": "stream",
     "text": [
      "0.6752096924510718\n"
     ]
    }
   ],
   "source": [
    "from sklearn.metrics import roc_auc_score\n",
    "auc = roc_auc_score(y_test, y_pred)\n",
    "print(auc)"
   ]
  },
  {
   "cell_type": "markdown",
   "metadata": {},
   "source": [
    "# feature selection Method"
   ]
  },
  {
   "cell_type": "code",
   "execution_count": 55,
   "metadata": {},
   "outputs": [
    {
     "data": {
      "text/html": [
       "<div>\n",
       "<style scoped>\n",
       "    .dataframe tbody tr th:only-of-type {\n",
       "        vertical-align: middle;\n",
       "    }\n",
       "\n",
       "    .dataframe tbody tr th {\n",
       "        vertical-align: top;\n",
       "    }\n",
       "\n",
       "    .dataframe thead th {\n",
       "        text-align: right;\n",
       "    }\n",
       "</style>\n",
       "<table border=\"1\" class=\"dataframe\">\n",
       "  <thead>\n",
       "    <tr style=\"text-align: right;\">\n",
       "      <th></th>\n",
       "      <th>Pregnancies</th>\n",
       "      <th>Glucose</th>\n",
       "      <th>BloodPressure</th>\n",
       "      <th>SkinThickness</th>\n",
       "      <th>Insulin</th>\n",
       "      <th>BMI</th>\n",
       "      <th>DiabetesPedigreeFunction</th>\n",
       "      <th>Age</th>\n",
       "      <th>Outcome</th>\n",
       "    </tr>\n",
       "  </thead>\n",
       "  <tbody>\n",
       "    <tr>\n",
       "      <td>Pregnancies</td>\n",
       "      <td>1.000000</td>\n",
       "      <td>0.126781</td>\n",
       "      <td>0.130888</td>\n",
       "      <td>-0.098653</td>\n",
       "      <td>-0.072781</td>\n",
       "      <td>-0.038966</td>\n",
       "      <td>-0.055248</td>\n",
       "      <td>0.513352</td>\n",
       "      <td>0.216720</td>\n",
       "    </tr>\n",
       "    <tr>\n",
       "      <td>Glucose</td>\n",
       "      <td>0.126781</td>\n",
       "      <td>1.000000</td>\n",
       "      <td>0.106589</td>\n",
       "      <td>0.054759</td>\n",
       "      <td>0.324213</td>\n",
       "      <td>0.191720</td>\n",
       "      <td>0.118647</td>\n",
       "      <td>0.258408</td>\n",
       "      <td>0.447673</td>\n",
       "    </tr>\n",
       "    <tr>\n",
       "      <td>BloodPressure</td>\n",
       "      <td>0.130888</td>\n",
       "      <td>0.106589</td>\n",
       "      <td>1.000000</td>\n",
       "      <td>0.212059</td>\n",
       "      <td>0.094693</td>\n",
       "      <td>0.209297</td>\n",
       "      <td>0.018862</td>\n",
       "      <td>0.237812</td>\n",
       "      <td>0.061771</td>\n",
       "    </tr>\n",
       "    <tr>\n",
       "      <td>SkinThickness</td>\n",
       "      <td>-0.098653</td>\n",
       "      <td>0.054759</td>\n",
       "      <td>0.212059</td>\n",
       "      <td>1.000000</td>\n",
       "      <td>0.439667</td>\n",
       "      <td>0.394658</td>\n",
       "      <td>0.223680</td>\n",
       "      <td>-0.120813</td>\n",
       "      <td>0.058609</td>\n",
       "    </tr>\n",
       "    <tr>\n",
       "      <td>Insulin</td>\n",
       "      <td>-0.072781</td>\n",
       "      <td>0.324213</td>\n",
       "      <td>0.094693</td>\n",
       "      <td>0.439667</td>\n",
       "      <td>1.000000</td>\n",
       "      <td>0.169343</td>\n",
       "      <td>0.179617</td>\n",
       "      <td>-0.039558</td>\n",
       "      <td>0.092935</td>\n",
       "    </tr>\n",
       "    <tr>\n",
       "      <td>BMI</td>\n",
       "      <td>-0.038966</td>\n",
       "      <td>0.191720</td>\n",
       "      <td>0.209297</td>\n",
       "      <td>0.394658</td>\n",
       "      <td>0.169343</td>\n",
       "      <td>1.000000</td>\n",
       "      <td>0.124027</td>\n",
       "      <td>-0.034200</td>\n",
       "      <td>0.299744</td>\n",
       "    </tr>\n",
       "    <tr>\n",
       "      <td>DiabetesPedigreeFunction</td>\n",
       "      <td>-0.055248</td>\n",
       "      <td>0.118647</td>\n",
       "      <td>0.018862</td>\n",
       "      <td>0.223680</td>\n",
       "      <td>0.179617</td>\n",
       "      <td>0.124027</td>\n",
       "      <td>1.000000</td>\n",
       "      <td>-0.007496</td>\n",
       "      <td>0.182957</td>\n",
       "    </tr>\n",
       "    <tr>\n",
       "      <td>Age</td>\n",
       "      <td>0.513352</td>\n",
       "      <td>0.258408</td>\n",
       "      <td>0.237812</td>\n",
       "      <td>-0.120813</td>\n",
       "      <td>-0.039558</td>\n",
       "      <td>-0.034200</td>\n",
       "      <td>-0.007496</td>\n",
       "      <td>1.000000</td>\n",
       "      <td>0.218665</td>\n",
       "    </tr>\n",
       "    <tr>\n",
       "      <td>Outcome</td>\n",
       "      <td>0.216720</td>\n",
       "      <td>0.447673</td>\n",
       "      <td>0.061771</td>\n",
       "      <td>0.058609</td>\n",
       "      <td>0.092935</td>\n",
       "      <td>0.299744</td>\n",
       "      <td>0.182957</td>\n",
       "      <td>0.218665</td>\n",
       "      <td>1.000000</td>\n",
       "    </tr>\n",
       "  </tbody>\n",
       "</table>\n",
       "</div>"
      ],
      "text/plain": [
       "                          Pregnancies   Glucose  BloodPressure  SkinThickness  \\\n",
       "Pregnancies                  1.000000  0.126781       0.130888      -0.098653   \n",
       "Glucose                      0.126781  1.000000       0.106589       0.054759   \n",
       "BloodPressure                0.130888  0.106589       1.000000       0.212059   \n",
       "SkinThickness               -0.098653  0.054759       0.212059       1.000000   \n",
       "Insulin                     -0.072781  0.324213       0.094693       0.439667   \n",
       "BMI                         -0.038966  0.191720       0.209297       0.394658   \n",
       "DiabetesPedigreeFunction    -0.055248  0.118647       0.018862       0.223680   \n",
       "Age                          0.513352  0.258408       0.237812      -0.120813   \n",
       "Outcome                      0.216720  0.447673       0.061771       0.058609   \n",
       "\n",
       "                           Insulin       BMI  DiabetesPedigreeFunction  \\\n",
       "Pregnancies              -0.072781 -0.038966                 -0.055248   \n",
       "Glucose                   0.324213  0.191720                  0.118647   \n",
       "BloodPressure             0.094693  0.209297                  0.018862   \n",
       "SkinThickness             0.439667  0.394658                  0.223680   \n",
       "Insulin                   1.000000  0.169343                  0.179617   \n",
       "BMI                       0.169343  1.000000                  0.124027   \n",
       "DiabetesPedigreeFunction  0.179617  0.124027                  1.000000   \n",
       "Age                      -0.039558 -0.034200                 -0.007496   \n",
       "Outcome                   0.092935  0.299744                  0.182957   \n",
       "\n",
       "                               Age   Outcome  \n",
       "Pregnancies               0.513352  0.216720  \n",
       "Glucose                   0.258408  0.447673  \n",
       "BloodPressure             0.237812  0.061771  \n",
       "SkinThickness            -0.120813  0.058609  \n",
       "Insulin                  -0.039558  0.092935  \n",
       "BMI                      -0.034200  0.299744  \n",
       "DiabetesPedigreeFunction -0.007496  0.182957  \n",
       "Age                       1.000000  0.218665  \n",
       "Outcome                   0.218665  1.000000  "
      ]
     },
     "execution_count": 55,
     "metadata": {},
     "output_type": "execute_result"
    }
   ],
   "source": [
    "df_new.corr()"
   ]
  },
  {
   "cell_type": "markdown",
   "metadata": {},
   "source": [
    "There is no significant correlation between Outcome & other independent variables"
   ]
  },
  {
   "cell_type": "code",
   "execution_count": 56,
   "metadata": {},
   "outputs": [],
   "source": [
    "from sklearn.feature_selection import SelectKBest\n",
    "from sklearn.feature_selection import chi2\n",
    "from sklearn.model_selection import train_test_split"
   ]
  },
  {
   "cell_type": "code",
   "execution_count": 57,
   "metadata": {},
   "outputs": [],
   "source": [
    "#apply SelectKBest class to extract top 10 best features\n",
    "bestfeatures = SelectKBest(score_func=chi2, k=4)\n",
    "fit = bestfeatures.fit(x_train,y_train)"
   ]
  },
  {
   "cell_type": "code",
   "execution_count": 58,
   "metadata": {},
   "outputs": [
    {
     "data": {
      "text/html": [
       "<div>\n",
       "<style scoped>\n",
       "    .dataframe tbody tr th:only-of-type {\n",
       "        vertical-align: middle;\n",
       "    }\n",
       "\n",
       "    .dataframe tbody tr th {\n",
       "        vertical-align: top;\n",
       "    }\n",
       "\n",
       "    .dataframe thead th {\n",
       "        text-align: right;\n",
       "    }\n",
       "</style>\n",
       "<table border=\"1\" class=\"dataframe\">\n",
       "  <thead>\n",
       "    <tr style=\"text-align: right;\">\n",
       "      <th></th>\n",
       "      <th>Specs</th>\n",
       "      <th>Score</th>\n",
       "    </tr>\n",
       "  </thead>\n",
       "  <tbody>\n",
       "    <tr>\n",
       "      <td>0</td>\n",
       "      <td>Pregnancies</td>\n",
       "      <td>4.157629</td>\n",
       "    </tr>\n",
       "    <tr>\n",
       "      <td>1</td>\n",
       "      <td>Glucose</td>\n",
       "      <td>3.858161</td>\n",
       "    </tr>\n",
       "    <tr>\n",
       "      <td>2</td>\n",
       "      <td>BloodPressure</td>\n",
       "      <td>0.167831</td>\n",
       "    </tr>\n",
       "    <tr>\n",
       "      <td>3</td>\n",
       "      <td>SkinThickness</td>\n",
       "      <td>0.173622</td>\n",
       "    </tr>\n",
       "    <tr>\n",
       "      <td>4</td>\n",
       "      <td>Insulin</td>\n",
       "      <td>0.973866</td>\n",
       "    </tr>\n",
       "    <tr>\n",
       "      <td>5</td>\n",
       "      <td>BMI</td>\n",
       "      <td>0.759020</td>\n",
       "    </tr>\n",
       "    <tr>\n",
       "      <td>6</td>\n",
       "      <td>DiabetesPedigreeFunction</td>\n",
       "      <td>1.192473</td>\n",
       "    </tr>\n",
       "    <tr>\n",
       "      <td>7</td>\n",
       "      <td>Age</td>\n",
       "      <td>4.717273</td>\n",
       "    </tr>\n",
       "  </tbody>\n",
       "</table>\n",
       "</div>"
      ],
      "text/plain": [
       "                      Specs     Score\n",
       "0               Pregnancies  4.157629\n",
       "1                   Glucose  3.858161\n",
       "2             BloodPressure  0.167831\n",
       "3             SkinThickness  0.173622\n",
       "4                   Insulin  0.973866\n",
       "5                       BMI  0.759020\n",
       "6  DiabetesPedigreeFunction  1.192473\n",
       "7                       Age  4.717273"
      ]
     },
     "execution_count": 58,
     "metadata": {},
     "output_type": "execute_result"
    }
   ],
   "source": [
    "dfscores = pd.DataFrame(fit.scores_)\n",
    "dfcolumns = pd.DataFrame(x_train.columns)\n",
    "#concat two dataframes for better visualization \n",
    "featureScores = pd.concat([dfcolumns,dfscores],axis=1)\n",
    "featureScores.columns = ['Specs','Score']  #naming the dataframe columns\n",
    "featureScores"
   ]
  },
  {
   "cell_type": "code",
   "execution_count": 60,
   "metadata": {},
   "outputs": [],
   "source": [
    "from sklearn.ensemble import RandomForestClassifier\n",
    "\n",
    "x_train, x_test, y_train, y_test = train_test_split(df_new, y, test_size=0.3)\n",
    "#Create a Gaussian Classifier\n",
    "clf=RandomForestClassifier(n_estimators=100)\n",
    "\n",
    "#Train the model using the training sets y_pred=clf.predict(X_test)\n",
    "clf.fit(x_train,y_train)\n",
    "\n",
    "y_pred=clf.predict(x_test)"
   ]
  },
  {
   "cell_type": "code",
   "execution_count": 61,
   "metadata": {},
   "outputs": [
    {
     "name": "stdout",
     "output_type": "stream",
     "text": [
      "Accuracy: 1.0\n"
     ]
    }
   ],
   "source": [
    "from sklearn import metrics\n",
    "# Model Accuracy, how often is the classifier correct?\n",
    "print(\"Accuracy:\",metrics.accuracy_score(y_test, y_pred))"
   ]
  },
  {
   "cell_type": "code",
   "execution_count": 62,
   "metadata": {},
   "outputs": [
    {
     "data": {
      "text/plain": [
       "1.0"
      ]
     },
     "execution_count": 62,
     "metadata": {},
     "output_type": "execute_result"
    }
   ],
   "source": [
    "from xgboost import XGBClassifier\n",
    "from sklearn.tree import DecisionTreeClassifier\n",
    "xgb = XGBClassifier(base_estimator = DecisionTreeClassifier())\n",
    "xgb.fit(x_train, y_train)\n",
    "xgb.score(x_test,y_test)"
   ]
  },
  {
   "cell_type": "code",
   "execution_count": 63,
   "metadata": {},
   "outputs": [],
   "source": [
    "from sklearn.tree import DecisionTreeClassifier\n",
    "from sklearn import tree\n",
    "dt = DecisionTreeClassifier()"
   ]
  },
  {
   "cell_type": "code",
   "execution_count": 64,
   "metadata": {},
   "outputs": [
    {
     "data": {
      "text/plain": [
       "DecisionTreeClassifier(ccp_alpha=0.0, class_weight=None, criterion='gini',\n",
       "                       max_depth=None, max_features=None, max_leaf_nodes=None,\n",
       "                       min_impurity_decrease=0.0, min_impurity_split=None,\n",
       "                       min_samples_leaf=1, min_samples_split=2,\n",
       "                       min_weight_fraction_leaf=0.0, presort='deprecated',\n",
       "                       random_state=None, splitter='best')"
      ]
     },
     "execution_count": 64,
     "metadata": {},
     "output_type": "execute_result"
    }
   ],
   "source": [
    "\n",
    "dt.fit(x_train, y_train)"
   ]
  },
  {
   "cell_type": "code",
   "execution_count": 67,
   "metadata": {},
   "outputs": [
    {
     "data": {
      "text/plain": [
       "1.0"
      ]
     },
     "execution_count": 67,
     "metadata": {},
     "output_type": "execute_result"
    }
   ],
   "source": [
    "dt.score(x_test, y_test)"
   ]
  },
  {
   "cell_type": "code",
   "execution_count": 68,
   "metadata": {},
   "outputs": [
    {
     "data": {
      "text/plain": [
       "[Text(167.4, 163.07999999999998, 'X[8] <= 0.5\\ngini = 0.5\\nsamples = 375\\nvalue = [193, 182]'),\n",
       " Text(83.7, 54.360000000000014, 'gini = 0.0\\nsamples = 193\\nvalue = [193, 0]'),\n",
       " Text(251.10000000000002, 54.360000000000014, 'gini = 0.0\\nsamples = 182\\nvalue = [0, 182]')]"
      ]
     },
     "execution_count": 68,
     "metadata": {},
     "output_type": "execute_result"
    },
    {
     "data": {
      "image/png": "[encoded data removed]",
      "text/plain": [
       "<Figure size 432x288 with 1 Axes>"
      ]
     },
     "metadata": {
      "needs_background": "light"
     },
     "output_type": "display_data"
    }
   ],
   "source": [
    "tree.plot_tree(dt.fit(x_train, y_train))"
   ]
  },
  {
   "cell_type": "code",
   "execution_count": 69,
   "metadata": {},
   "outputs": [
    {
     "data": {
      "text/plain": [
       "1.0"
      ]
     },
     "execution_count": 69,
     "metadata": {},
     "output_type": "execute_result"
    },
    {
     "data": {
      "image/png": "[encoded data removed]",
      "text/plain": [
       "<Figure size 432x288 with 1 Axes>"
      ]
     },
     "metadata": {
      "needs_background": "light"
     },
     "output_type": "display_data"
    }
   ],
   "source": [
    "tree.plot_tree(dt.fit(x_test, y_test))\n",
    "dt.score(x_test, y_test)\n"
   ]
  },
  {
   "cell_type": "code",
   "execution_count": 70,
   "metadata": {},
   "outputs": [],
   "source": [
    "from sklearn.metrics import accuracy_score, precision_score, recall_score, f1_score\n",
    "accuracy_score(y_test,y_pred)\n",
    "from sklearn.decomposition import PCA"
   ]
  },
  {
   "cell_type": "code",
   "execution_count": 71,
   "metadata": {},
   "outputs": [
    {
     "name": "stdout",
     "output_type": "stream",
     "text": [
      "Components =7 Accuracy =0.7639751552795031\n",
      "Components =6 Accuracy =0.6708074534161491\n",
      "Components =5 Accuracy =0.7329192546583851\n",
      "Components =4 Accuracy =0.7329192546583851\n",
      "Components =3 Accuracy =0.7142857142857143\n",
      "Components =2 Accuracy =0.7080745341614907\n",
      "Components =1 Accuracy =0.6273291925465838\n"
     ]
    }
   ],
   "source": [
    "for i in range(7,0,-1):\n",
    "    pca = PCA(n_components =i)\n",
    "    x_pca=pca.fit_transform(x)\n",
    "    x_train,x_test,y_train,y_test = train_test_split(x_pca,y,test_size=0.3)\n",
    "    log=LogisticRegression()\n",
    "    log.fit(x_train,y_train)\n",
    "    y_pred=log.predict(x_test)\n",
    "    print(\"Components ={} Accuracy ={}\".format(i,accuracy_score(y_test,y_pred)))"
   ]
  },
  {
   "cell_type": "code",
   "execution_count": null,
   "metadata": {},
   "outputs": [],
   "source": []
  }
 ],
 "metadata": {
  "kernelspec": {
   "display_name": "Python 3",
   "language": "python",
   "name": "python3"
  },
  "language_info": {
   "codemirror_mode": {
    "name": "ipython",
    "version": 3
   },
   "file_extension": ".py",
   "mimetype": "text/x-python",
   "name": "python",
   "nbconvert_exporter": "python",
   "pygments_lexer": "ipython3",
   "version": "3.7.4"
  }
 },
 "nbformat": 4,
 "nbformat_minor": 2
}
